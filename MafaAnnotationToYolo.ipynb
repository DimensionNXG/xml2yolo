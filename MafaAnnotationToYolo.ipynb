{
 "cells": [
  {
   "cell_type": "code",
   "execution_count": null,
   "metadata": {},
   "outputs": [],
   "source": [
    "import glob,os\n",
    "import scipy.io\n",
    "import numpy as np\n",
    "from PIL import Image\n",
    "import cv2\n",
    "import matplotlib.pyplot as plt\n",
    "mat=scipy.io.loadmat('/home/jarvis/Downloads/LabelTrainAll.mat')\n",
    "#image dir\n",
    "ImageDir = \"/home/jarvis/Downloads/train-images/images/\"\n",
    "# Blue color in BGR \n",
    "color = (255, 0, 0) \n",
    "# Line thickness of 2 px \n",
    "thickness = 2"
   ]
  },
  {
   "cell_type": "code",
   "execution_count": null,
   "metadata": {
    "scrolled": true
   },
   "outputs": [],
   "source": [
    "for i in range(25876):\n",
    "    #Annotation_file = str(mat['label_train'][0][i][1][0]).split('.')[0]\n",
    "    Filename= (str(mat['label_train'][0][i][1][0]))\n",
    "    #Annotation Details\n",
    "    Annotation= (str(mat['label_train'][0][i][2][0][:4])).strip('[').strip(']').split()\n",
    "    print(Filename)\n",
    "    print(Annotation)\n",
    "    ###################################\n",
    "    ImageName = glob.glob(ImageDir+str(Filename))[0]\n",
    "    image = np.asarray(Image.open(str(ImageName)))\n",
    "    print(image.shape)\n",
    "    w= (image.shape)[1]\n",
    "    h = (image.shape)[0]\n",
    "    dw = 1.0/w\n",
    "    dh = 1.0/h\n",
    "    #print(dw)\n",
    "    #print(dh)\n",
    "    #print(Annotation[0]) >>Uncomment to visualise\n",
    "    #For visualisation purposes\n",
    "    start_point = int(Annotation[0]), int(Annotation[1])\n",
    "    end_point = int(int(Annotation[0])+ int(Annotation[2])), int(int(Annotation[1])+ int(Annotation[3]))\n",
    "    print(end_point)\n",
    "    cv2.rectangle(image, start_point, end_point, color, thickness)\n",
    "    #######################################################################\n",
    "    #Finding out center point\n",
    "    #center_point = int(int(start_point[0])+ int(end_point[0])/2)*d,int(int(start_point[1])+ int(end_point[1])/2)*dh\n",
    "    #Annotation Data\n",
    "    center_point = float(float((start_point[0]+ end_point[0])/2.0)*dw),float(float((start_point[1]+ end_point[1])/2.0)*dh)\n",
    "    \n",
    "    #Normalised width and height\n",
    "    width = float(int(Annotation[2])*dw)\n",
    "    #print(width)\n",
    "    height = float(int(Annotation[3])*dh)\n",
    "    #checking if the values are non-negative and are less than 1\n",
    "    if (width<1 and height<1 and center_point[0]<1 and center_point[1]<1):\n",
    "        AnnotationData=['1',str(center_point[0]),str(center_point[1]),str(width),str(height)]\n",
    "        #print(AnnotationData)\n",
    "        #opening a file with ImageName\n",
    "        filename= Filename.split('.')[0]\n",
    "        os.chdir(ImageDir)\n",
    "        f=open(filename+\".txt\",'w')\n",
    "        f.write(\" \".join(AnnotationData))\n",
    "        f.close()\n",
    "    else:\n",
    "        os.remove(ImageName)\n",
    "        print(\"Skipping\")\n",
    "        print(\"Wrongly Annotated, Hence Image Deleted \"+str(ImageName))\n",
    "    #plt.imshow(image)\n",
    "    #plt.show()\n",
    "    \n",
    "    #print(Annotation_file)"
   ]
  },
  {
   "cell_type": "code",
   "execution_count": null,
   "metadata": {},
   "outputs": [],
   "source": []
  }
 ],
 "metadata": {
  "kernelspec": {
   "display_name": "Python 3",
   "language": "python",
   "name": "python3"
  },
  "language_info": {
   "codemirror_mode": {
    "name": "ipython",
    "version": 3
   },
   "file_extension": ".py",
   "mimetype": "text/x-python",
   "name": "python",
   "nbconvert_exporter": "python",
   "pygments_lexer": "ipython3",
   "version": "3.6.9"
  }
 },
 "nbformat": 4,
 "nbformat_minor": 4
}
